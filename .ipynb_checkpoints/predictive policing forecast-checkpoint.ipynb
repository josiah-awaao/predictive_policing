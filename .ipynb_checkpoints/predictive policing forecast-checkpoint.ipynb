{
 "cells": [
  {
   "cell_type": "code",
   "execution_count": 6,
   "id": "b4b09cf6-598b-4a6e-8957-667e15880090",
   "metadata": {},
   "outputs": [
    {
     "name": "stdout",
     "output_type": "stream",
     "text": [
      "✅ Loaded model and historical reference dataset\n",
      "📡 Predicting next 12 hours of potential crimes...\n",
      "⚠️ 'CrimeOccurred' not in reference dataset — using overall crime density instead.\n"
     ]
    },
    {
     "ename": "ValueError",
     "evalue": "The feature names should match those that were passed during fit.\nFeature names seen at fit time, yet now missing:\n- prcp\n- rhum\n- temp\n- wspd\n",
     "output_type": "error",
     "traceback": [
      "\u001b[1;31m---------------------------------------------------------------------------\u001b[0m",
      "\u001b[1;31mValueError\u001b[0m                                Traceback (most recent call last)",
      "Cell \u001b[1;32mIn[6], line 52\u001b[0m\n\u001b[0;32m     49\u001b[0m forecast_df[\u001b[38;5;124m'\u001b[39m\u001b[38;5;124mRepeatOffenderSignal\u001b[39m\u001b[38;5;124m'\u001b[39m] \u001b[38;5;241m=\u001b[39m forecast_df[\u001b[38;5;124m'\u001b[39m\u001b[38;5;124mcrime_count\u001b[39m\u001b[38;5;124m'\u001b[39m] \u001b[38;5;241m*\u001b[39m np\u001b[38;5;241m.\u001b[39mrandom\u001b[38;5;241m.\u001b[39muniform(\u001b[38;5;241m0.3\u001b[39m, \u001b[38;5;241m1.2\u001b[39m)\n\u001b[0;32m     51\u001b[0m forecast_X \u001b[38;5;241m=\u001b[39m forecast_df[features]\n\u001b[1;32m---> 52\u001b[0m forecast_df[\u001b[38;5;124m'\u001b[39m\u001b[38;5;124mPredictedCrimeProb\u001b[39m\u001b[38;5;124m'\u001b[39m] \u001b[38;5;241m=\u001b[39m model\u001b[38;5;241m.\u001b[39mpredict_proba(forecast_X)[:, \u001b[38;5;241m-\u001b[39m\u001b[38;5;241m1\u001b[39m]\n\u001b[0;32m     53\u001b[0m top_preds \u001b[38;5;241m=\u001b[39m forecast_df\u001b[38;5;241m.\u001b[39msort_values(\u001b[38;5;124m'\u001b[39m\u001b[38;5;124mPredictedCrimeProb\u001b[39m\u001b[38;5;124m'\u001b[39m, ascending\u001b[38;5;241m=\u001b[39m\u001b[38;5;28;01mFalse\u001b[39;00m)\u001b[38;5;241m.\u001b[39mhead(\u001b[38;5;241m10\u001b[39m)\n\u001b[0;32m     55\u001b[0m \u001b[38;5;66;03m# 4. Output\u001b[39;00m\n",
      "File \u001b[1;32m~\\anaconda3\\envs\\predictive_policing\\Lib\\site-packages\\sklearn\\ensemble\\_forest.py:946\u001b[0m, in \u001b[0;36mForestClassifier.predict_proba\u001b[1;34m(self, X)\u001b[0m\n\u001b[0;32m    944\u001b[0m check_is_fitted(\u001b[38;5;28mself\u001b[39m)\n\u001b[0;32m    945\u001b[0m \u001b[38;5;66;03m# Check data\u001b[39;00m\n\u001b[1;32m--> 946\u001b[0m X \u001b[38;5;241m=\u001b[39m \u001b[38;5;28mself\u001b[39m\u001b[38;5;241m.\u001b[39m_validate_X_predict(X)\n\u001b[0;32m    948\u001b[0m \u001b[38;5;66;03m# Assign chunk of trees to jobs\u001b[39;00m\n\u001b[0;32m    949\u001b[0m n_jobs, _, _ \u001b[38;5;241m=\u001b[39m _partition_estimators(\u001b[38;5;28mself\u001b[39m\u001b[38;5;241m.\u001b[39mn_estimators, \u001b[38;5;28mself\u001b[39m\u001b[38;5;241m.\u001b[39mn_jobs)\n",
      "File \u001b[1;32m~\\anaconda3\\envs\\predictive_policing\\Lib\\site-packages\\sklearn\\ensemble\\_forest.py:641\u001b[0m, in \u001b[0;36mBaseForest._validate_X_predict\u001b[1;34m(self, X)\u001b[0m\n\u001b[0;32m    638\u001b[0m \u001b[38;5;28;01melse\u001b[39;00m:\n\u001b[0;32m    639\u001b[0m     force_all_finite \u001b[38;5;241m=\u001b[39m \u001b[38;5;28;01mTrue\u001b[39;00m\n\u001b[1;32m--> 641\u001b[0m X \u001b[38;5;241m=\u001b[39m \u001b[38;5;28mself\u001b[39m\u001b[38;5;241m.\u001b[39m_validate_data(\n\u001b[0;32m    642\u001b[0m     X,\n\u001b[0;32m    643\u001b[0m     dtype\u001b[38;5;241m=\u001b[39mDTYPE,\n\u001b[0;32m    644\u001b[0m     accept_sparse\u001b[38;5;241m=\u001b[39m\u001b[38;5;124m\"\u001b[39m\u001b[38;5;124mcsr\u001b[39m\u001b[38;5;124m\"\u001b[39m,\n\u001b[0;32m    645\u001b[0m     reset\u001b[38;5;241m=\u001b[39m\u001b[38;5;28;01mFalse\u001b[39;00m,\n\u001b[0;32m    646\u001b[0m     force_all_finite\u001b[38;5;241m=\u001b[39mforce_all_finite,\n\u001b[0;32m    647\u001b[0m )\n\u001b[0;32m    648\u001b[0m \u001b[38;5;28;01mif\u001b[39;00m issparse(X) \u001b[38;5;129;01mand\u001b[39;00m (X\u001b[38;5;241m.\u001b[39mindices\u001b[38;5;241m.\u001b[39mdtype \u001b[38;5;241m!=\u001b[39m np\u001b[38;5;241m.\u001b[39mintc \u001b[38;5;129;01mor\u001b[39;00m X\u001b[38;5;241m.\u001b[39mindptr\u001b[38;5;241m.\u001b[39mdtype \u001b[38;5;241m!=\u001b[39m np\u001b[38;5;241m.\u001b[39mintc):\n\u001b[0;32m    649\u001b[0m     \u001b[38;5;28;01mraise\u001b[39;00m \u001b[38;5;167;01mValueError\u001b[39;00m(\u001b[38;5;124m\"\u001b[39m\u001b[38;5;124mNo support for np.int64 index based sparse matrices\u001b[39m\u001b[38;5;124m\"\u001b[39m)\n",
      "File \u001b[1;32m~\\anaconda3\\envs\\predictive_policing\\Lib\\site-packages\\sklearn\\base.py:608\u001b[0m, in \u001b[0;36mBaseEstimator._validate_data\u001b[1;34m(self, X, y, reset, validate_separately, cast_to_ndarray, **check_params)\u001b[0m\n\u001b[0;32m    537\u001b[0m \u001b[38;5;28;01mdef\u001b[39;00m \u001b[38;5;21m_validate_data\u001b[39m(\n\u001b[0;32m    538\u001b[0m     \u001b[38;5;28mself\u001b[39m,\n\u001b[0;32m    539\u001b[0m     X\u001b[38;5;241m=\u001b[39m\u001b[38;5;124m\"\u001b[39m\u001b[38;5;124mno_validation\u001b[39m\u001b[38;5;124m\"\u001b[39m,\n\u001b[1;32m   (...)\u001b[0m\n\u001b[0;32m    544\u001b[0m     \u001b[38;5;241m*\u001b[39m\u001b[38;5;241m*\u001b[39mcheck_params,\n\u001b[0;32m    545\u001b[0m ):\n\u001b[0;32m    546\u001b[0m \u001b[38;5;250m    \u001b[39m\u001b[38;5;124;03m\"\"\"Validate input data and set or check the `n_features_in_` attribute.\u001b[39;00m\n\u001b[0;32m    547\u001b[0m \n\u001b[0;32m    548\u001b[0m \u001b[38;5;124;03m    Parameters\u001b[39;00m\n\u001b[1;32m   (...)\u001b[0m\n\u001b[0;32m    606\u001b[0m \u001b[38;5;124;03m        validated.\u001b[39;00m\n\u001b[0;32m    607\u001b[0m \u001b[38;5;124;03m    \"\"\"\u001b[39;00m\n\u001b[1;32m--> 608\u001b[0m     \u001b[38;5;28mself\u001b[39m\u001b[38;5;241m.\u001b[39m_check_feature_names(X, reset\u001b[38;5;241m=\u001b[39mreset)\n\u001b[0;32m    610\u001b[0m     \u001b[38;5;28;01mif\u001b[39;00m y \u001b[38;5;129;01mis\u001b[39;00m \u001b[38;5;28;01mNone\u001b[39;00m \u001b[38;5;129;01mand\u001b[39;00m \u001b[38;5;28mself\u001b[39m\u001b[38;5;241m.\u001b[39m_get_tags()[\u001b[38;5;124m\"\u001b[39m\u001b[38;5;124mrequires_y\u001b[39m\u001b[38;5;124m\"\u001b[39m]:\n\u001b[0;32m    611\u001b[0m         \u001b[38;5;28;01mraise\u001b[39;00m \u001b[38;5;167;01mValueError\u001b[39;00m(\n\u001b[0;32m    612\u001b[0m             \u001b[38;5;124mf\u001b[39m\u001b[38;5;124m\"\u001b[39m\u001b[38;5;124mThis \u001b[39m\u001b[38;5;132;01m{\u001b[39;00m\u001b[38;5;28mself\u001b[39m\u001b[38;5;241m.\u001b[39m\u001b[38;5;18m__class__\u001b[39m\u001b[38;5;241m.\u001b[39m\u001b[38;5;18m__name__\u001b[39m\u001b[38;5;132;01m}\u001b[39;00m\u001b[38;5;124m estimator \u001b[39m\u001b[38;5;124m\"\u001b[39m\n\u001b[0;32m    613\u001b[0m             \u001b[38;5;124m\"\u001b[39m\u001b[38;5;124mrequires y to be passed, but the target y is None.\u001b[39m\u001b[38;5;124m\"\u001b[39m\n\u001b[0;32m    614\u001b[0m         )\n",
      "File \u001b[1;32m~\\anaconda3\\envs\\predictive_policing\\Lib\\site-packages\\sklearn\\base.py:535\u001b[0m, in \u001b[0;36mBaseEstimator._check_feature_names\u001b[1;34m(self, X, reset)\u001b[0m\n\u001b[0;32m    530\u001b[0m \u001b[38;5;28;01mif\u001b[39;00m \u001b[38;5;129;01mnot\u001b[39;00m missing_names \u001b[38;5;129;01mand\u001b[39;00m \u001b[38;5;129;01mnot\u001b[39;00m unexpected_names:\n\u001b[0;32m    531\u001b[0m     message \u001b[38;5;241m+\u001b[39m\u001b[38;5;241m=\u001b[39m (\n\u001b[0;32m    532\u001b[0m         \u001b[38;5;124m\"\u001b[39m\u001b[38;5;124mFeature names must be in the same order as they were in fit.\u001b[39m\u001b[38;5;130;01m\\n\u001b[39;00m\u001b[38;5;124m\"\u001b[39m\n\u001b[0;32m    533\u001b[0m     )\n\u001b[1;32m--> 535\u001b[0m \u001b[38;5;28;01mraise\u001b[39;00m \u001b[38;5;167;01mValueError\u001b[39;00m(message)\n",
      "\u001b[1;31mValueError\u001b[0m: The feature names should match those that were passed during fit.\nFeature names seen at fit time, yet now missing:\n- prcp\n- rhum\n- temp\n- wspd\n"
     ]
    }
   ],
   "source": [
    "# Predict Crimes - Forecast Only\n",
    "import pandas as pd\n",
    "import numpy as np\n",
    "import joblib\n",
    "import matplotlib.pyplot as plt\n",
    "import seaborn as sns\n",
    "from datetime import timedelta\n",
    "from sklearn.metrics import classification_report, roc_auc_score\n",
    "\n",
    "# 1. Load model and reference dataset\n",
    "model = joblib.load(\"crime_predictor_model.pkl\")\n",
    "df = pd.read_pickle(\"df_reference.pkl\")\n",
    "print(\"✅ Loaded model and historical reference dataset\")\n",
    "\n",
    "# 2. Feature setup\n",
    "features = [\n",
    "    'Hour', 'DayOfWeek', 'Month', 'IsWeekend',\n",
    "    'temp', 'rhum', 'prcp', 'snow', 'wspd',\n",
    "    'RecentArrests', 'RepeatOffenderSignal'\n",
    "]\n",
    "\n",
    "# 3. Predict crimes for next 12 hours\n",
    "print(\"📡 Predicting next 12 hours of potential crimes...\")\n",
    "last_hour = df['DateHour'].max()\n",
    "future_hours = pd.date_range(start=last_hour + pd.Timedelta(hours=1), periods=12, freq='h')\n",
    "locations = df[['LatGrid', 'LonGrid']].drop_duplicates()\n",
    "sampled_locations = locations.sample(n=100, random_state=42)\n",
    "\n",
    "forecast_grid = pd.MultiIndex.from_product(\n",
    "    [future_hours, sampled_locations['LatGrid'], sampled_locations['LonGrid']],\n",
    "    names=['DateHour', 'LatGrid', 'LonGrid']\n",
    ")\n",
    "forecast_df = pd.DataFrame(index=forecast_grid).reset_index()\n",
    "\n",
    "forecast_df['Hour'] = forecast_df['DateHour'].dt.hour\n",
    "forecast_df['DayOfWeek'] = forecast_df['DateHour'].dt.dayofweek\n",
    "forecast_df['Month'] = forecast_df['DateHour'].dt.month\n",
    "forecast_df['IsWeekend'] = forecast_df['DayOfWeek'].isin([5, 6]).astype(int)\n",
    "\n",
    "# Recreate hot location map using RecentArrests & RepeatOffenderSignal proxies only\n",
    "if 'CrimeOccurred' in df.columns:\n",
    "    hot_locations = df[df['CrimeOccurred'] == 1].groupby(['LatGrid', 'LonGrid']).size().reset_index(name='crime_count')\n",
    "else:\n",
    "    print(\"⚠️ 'CrimeOccurred' not in reference dataset — using overall crime density instead.\")\n",
    "    hot_locations = df.groupby(['LatGrid', 'LonGrid']).size().reset_index(name='crime_count')\n",
    "\n",
    "forecast_df = forecast_df.merge(hot_locations, on=['LatGrid', 'LonGrid'], how='left')\n",
    "forecast_df['crime_count'] = forecast_df['crime_count'].fillna(0)\n",
    "forecast_df['RecentArrests'] = forecast_df['crime_count'] * np.random.uniform(0.1, 0.5)\n",
    "forecast_df['RepeatOffenderSignal'] = forecast_df['crime_count'] * np.random.uniform(0.3, 1.2)\n",
    "\n",
    "# Fill weather columns with dummy baseline values (required by model)\n",
    "weather_cols = ['temp', 'rhum', 'prcp', 'snow', 'wspd']\n",
    "for col in weather_cols:\n",
    "    forecast_df[col] = np.random.normal(loc=0.0, scale=1.0, size=len(forecast_df)).astype(np.float32)\n",
    "\n",
    "forecast_X = forecast_df[features]\n",
    "forecast_df['PredictedCrimeProb'] = model.predict_proba(forecast_X)[:, -1]\n",
    "top_preds = forecast_df.sort_values('PredictedCrimeProb', ascending=False).head(10)\n",
    "\n",
    "# 4. Output\n",
    "print(\"\\n🔮 Top 10 Predicted Crime Hotspots:\")\n",
    "print(top_preds.reset_index(drop=True)[['DateHour', 'LatGrid', 'LonGrid', 'PredictedCrimeProb']])\n"
   ]
  },
  {
   "cell_type": "code",
   "execution_count": null,
   "id": "344eb82a-eedb-4455-bdb0-551fb3bb97db",
   "metadata": {},
   "outputs": [],
   "source": []
  }
 ],
 "metadata": {
  "kernelspec": {
   "display_name": "Python 3 (ipykernel)",
   "language": "python",
   "name": "python3"
  },
  "language_info": {
   "codemirror_mode": {
    "name": "ipython",
    "version": 3
   },
   "file_extension": ".py",
   "mimetype": "text/x-python",
   "name": "python",
   "nbconvert_exporter": "python",
   "pygments_lexer": "ipython3",
   "version": "3.12.7"
  }
 },
 "nbformat": 4,
 "nbformat_minor": 5
}
