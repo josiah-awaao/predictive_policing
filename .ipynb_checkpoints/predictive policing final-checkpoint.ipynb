{
 "cells": [
  {
   "cell_type": "code",
   "execution_count": 5,
   "id": "33d8afd9-c180-4b43-b21a-7acbcf3e4ad2",
   "metadata": {},
   "outputs": [],
   "source": [
    "# pip install meteostat tqdm joblib\n",
    "import pandas as pd\n",
    "import numpy as np\n",
    "from datetime import datetime, timedelta\n",
    "from meteostat import Hourly, Point\n",
    "from sklearn.ensemble import RandomForestClassifier\n",
    "from sklearn.model_selection import train_test_split\n",
    "from sklearn.metrics import classification_report, roc_auc_score\n",
    "import matplotlib.pyplot as plt\n",
    "import seaborn as sns\n",
    "import joblib\n",
    "from tqdm import tqdm\n",
    "\n",
    "tqdm.pandas()\n",
    "\n",
    "# 1. Load crime dataset\n",
    "crime_df = pd.read_csv(\"Crimes_-_2001_to_Present_20250410.csv\", low_memory=False)\n",
    "crime_df['Date'] = pd.to_datetime(crime_df['Date'], errors='coerce')\n",
    "crime_df = crime_df[['Date', 'Arrest', 'Latitude', 'Longitude', 'Community Area']]\n",
    "crime_df.dropna(subset=['Date', 'Latitude', 'Longitude'], inplace=True)\n",
    "crime_df['DateHour'] = crime_df['Date'].dt.floor('h')\n",
    "crime_df['LatGrid'] = crime_df['Latitude'].round(2)\n",
    "crime_df['LonGrid'] = crime_df['Longitude'].round(2)"
   ]
  },
  {
   "cell_type": "code",
   "execution_count": 8,
   "id": "54db0c97-1340-4767-b1ce-14d046efc32e",
   "metadata": {},
   "outputs": [
    {
     "name": "stderr",
     "output_type": "stream",
     "text": [
      "FutureWarning: 'H' is deprecated and will be removed in a future version, please use 'h' instead.\n"
     ]
    },
    {
     "name": "stdout",
     "output_type": "stream",
     "text": [
      "🧠 Class distribution:\n",
      "CrimeOccurred\n",
      "0    399474\n",
      "1     23026\n",
      "Name: count, dtype: int64\n"
     ]
    }
   ],
   "source": [
    "# 2. Generate smaller grid in chunks to avoid memory error\n",
    "locations = crime_df[['LatGrid', 'LonGrid']].drop_duplicates().sample(n=50, random_state=42)\n",
    "time_range = pd.date_range(start=crime_df['DateHour'].min(), end=crime_df['DateHour'].min() + pd.Timedelta(days=7), freq='h')\n",
    "grids = pd.MultiIndex.from_product([time_range, locations['LatGrid'], locations['LonGrid']], names=['DateHour', 'LatGrid', 'LonGrid'])\n",
    "df = pd.DataFrame(index=grids).reset_index()\n",
    "\n",
    "# 3. Pull weather data\n",
    "station = Point(41.9742, -87.9073)\n",
    "weather_df = Hourly(station, time_range.min(), time_range.max()).fetch().reset_index()\n",
    "weather_df['DateHour'] = weather_df['time'].dt.floor('h')\n",
    "df = df.merge(weather_df, on='DateHour', how='left')\n",
    "\n",
    "# Fill missing weather data using forward and backward fill\n",
    "weather_cols = ['temp', 'rhum', 'prcp', 'snow', 'wspd']\n",
    "df[weather_cols] = df[weather_cols].ffill().bfill()\n",
    "df = df[(df['temp'] > -50) & (df['temp'] < 60)]\n",
    "\n",
    "# 4. Add time-based features\n",
    "df['Hour'] = df['DateHour'].dt.hour\n",
    "df['DayOfWeek'] = df['DateHour'].dt.dayofweek\n",
    "df['Month'] = df['DateHour'].dt.month\n",
    "df['IsWeekend'] = df['DayOfWeek'].isin([5, 6]).astype(int)\n",
    "\n",
    "# 5. Label crime occurrences\n",
    "crime_keys = set(zip(crime_df['DateHour'], crime_df['LatGrid'], crime_df['LonGrid']))\n",
    "df['CrimeOccurred'] = df.apply(lambda row: (row['DateHour'], row['LatGrid'], row['LonGrid']) in crime_keys, axis=1).astype(int)\n",
    "\n",
    "print(\"Class distribution:\")\n",
    "print(df['CrimeOccurred'].value_counts())"
   ]
  },
  {
   "cell_type": "code",
   "execution_count": 9,
   "id": "120c7567-0c1b-4e6d-817f-2997ba429847",
   "metadata": {},
   "outputs": [],
   "source": [
    "# 6. Arrest signals using vectorized aggregation\n",
    "crime_df_arrests = crime_df[crime_df['Arrest'] == True].copy()\n",
    "arrests_grouped = crime_df_arrests.groupby(['LatGrid', 'LonGrid', 'DateHour']).size().reset_index(name='ArrestCount')\n",
    "df = df.sort_values(['LatGrid', 'LonGrid', 'DateHour'])\n",
    "arrests_grouped = arrests_grouped.sort_values(['LatGrid', 'LonGrid', 'DateHour'])\n",
    "df = df.merge(arrests_grouped, on=['DateHour', 'LatGrid', 'LonGrid'], how='left')\n",
    "df['ArrestCount'] = df['ArrestCount'].fillna(0)\n",
    "df['RecentArrests'] = df.groupby(['LatGrid', 'LonGrid'])['ArrestCount'].transform(lambda x: x.rolling(window=168, min_periods=1).sum())\n",
    "df['RepeatOffenderSignal'] = df.groupby(['LatGrid', 'LonGrid'])['ArrestCount'].transform(lambda x: x.rolling(window=720, min_periods=1).sum())\n"
   ]
  },
  {
   "cell_type": "code",
   "execution_count": 10,
   "id": "3cf9c780-8bb1-45dd-976c-107feded67bd",
   "metadata": {},
   "outputs": [
    {
     "name": "stdout",
     "output_type": "stream",
     "text": [
      "✅ Features retained for model: ['Hour', 'DayOfWeek', 'Month', 'IsWeekend', 'temp', 'rhum', 'prcp', 'wspd', 'RecentArrests', 'RepeatOffenderSignal']\n",
      "🔎 Remaining rows after cleaning: (422500, 23)\n"
     ]
    }
   ],
   "source": [
    "# 7. Final feature check with verbose report\n",
    "features = [\n",
    "    'Hour', 'DayOfWeek', 'Month', 'IsWeekend',\n",
    "    'temp', 'rhum', 'prcp', 'snow', 'wspd',\n",
    "    'RecentArrests', 'RepeatOffenderSignal'\n",
    "]\n",
    "\n",
    "features = [f for f in features if df[f].notna().sum() > 0]\n",
    "print(\"Features retained for model:\", features)\n",
    "\n",
    "df[features] = df[features].ffill().bfill()\n",
    "df = df.dropna(subset=features)\n",
    "print(\"Remaining rows after cleaning:\", df.shape)\n",
    "\n",
    "if df.empty:\n",
    "    raise ValueError(\"Dataframe is empty after cleaning. Try checking weather coverage or use a narrower date range.\")"
   ]
  },
  {
   "cell_type": "code",
   "execution_count": 11,
   "id": "24edc313-3a9d-49b1-bd24-3dd9a74c7032",
   "metadata": {},
   "outputs": [
    {
     "name": "stdout",
     "output_type": "stream",
     "text": [
      "✅ Proceeding with full dataset: 422500 records\n"
     ]
    },
    {
     "data": {
      "text/plain": [
       "['crime_predictor_model.pkl']"
      ]
     },
     "execution_count": 11,
     "metadata": {},
     "output_type": "execute_result"
    }
   ],
   "source": [
    "# 8. Train model\n",
    "X = df[features]\n",
    "y = df['CrimeOccurred']\n",
    "\n",
    "# if len(y.unique()) < 2:\n",
    "#     raise ValueError(\"❌ Only one class present. Not enough variability to train.\")\n",
    "\n",
    "print(f\"Proceeding with full dataset: {len(y)} records\")\n",
    "X_train, X_test, y_train, y_test = train_test_split(X, y, stratify=y, test_size=0.25, random_state=42)\n",
    "clf = RandomForestClassifier(n_estimators=100, class_weight='balanced', random_state=42)\n",
    "clf.fit(X_train, y_train)\n",
    "joblib.dump(clf, \"crime_predictor_model.pkl\")\n"
   ]
  },
  {
   "cell_type": "code",
   "execution_count": 12,
   "id": "fe406e4e-4167-423a-9451-a30e311597ff",
   "metadata": {},
   "outputs": [
    {
     "name": "stdout",
     "output_type": "stream",
     "text": [
      "              precision    recall  f1-score   support\n",
      "\n",
      "           0       0.98      0.88      0.93     99869\n",
      "           1       0.25      0.67      0.36      5756\n",
      "\n",
      "    accuracy                           0.87    105625\n",
      "   macro avg       0.61      0.78      0.64    105625\n",
      "weighted avg       0.94      0.87      0.90    105625\n",
      "\n",
      "ROC-AUC Score: 0.8504941638591725\n"
     ]
    },
    {
     "data": {
      "image/png": "[encoded data removed]",
      "text/plain": [
       "<Figure size 1000x600 with 1 Axes>"
      ]
     },
     "metadata": {},
     "output_type": "display_data"
    }
   ],
   "source": [
    "# 9. Evaluation\n",
    "y_pred = clf.predict(X_test)\n",
    "y_proba = clf.predict_proba(X_test)[:, -1]\n",
    "print(classification_report(y_test, y_pred, zero_division=0))\n",
    "try:\n",
    "    print(\"ROC-AUC Score:\", roc_auc_score(y_test, y_proba))\n",
    "except ValueError as e:\n",
    "    print(\"ROC-AUC could not be computed:\", e)\n",
    "\n",
    "feat_imp = pd.Series(clf.feature_importances_, index=features).sort_values(ascending=False)\n",
    "plt.figure(figsize=(10, 6))\n",
    "sns.barplot(x=feat_imp, y=feat_imp.index)\n",
    "plt.title(\"Feature Importance\")\n",
    "plt.tight_layout()\n",
    "plt.show()"
   ]
  },
  {
   "cell_type": "code",
   "execution_count": 14,
   "id": "47ff5c45-69ae-440c-91f4-fcc64fd9d6dd",
   "metadata": {},
   "outputs": [
    {
     "name": "stdout",
     "output_type": "stream",
     "text": [
      "📡 Predicting next 12 hours of potential crimes...\n",
      "                 DateHour  LatGrid  LonGrid  PredictedCrimeProb\n",
      "29999 2001-01-08 12:00:00    41.68   -87.74            0.294975\n",
      "28329 2001-01-08 12:00:00    41.68   -87.66            0.294975\n",
      "28336 2001-01-08 12:00:00    41.68   -87.75            0.294975\n",
      "28335 2001-01-08 12:00:00    41.68   -87.75            0.294975\n",
      "28334 2001-01-08 12:00:00    41.68   -87.68            0.294975\n",
      "28333 2001-01-08 12:00:00    41.68   -87.61            0.294975\n",
      "28332 2001-01-08 12:00:00    41.68   -87.72            0.294975\n",
      "28331 2001-01-08 12:00:00    41.68   -87.62            0.294975\n",
      "28330 2001-01-08 12:00:00    41.68   -87.58            0.294975\n",
      "28328 2001-01-08 12:00:00    41.68   -87.78            0.294975\n"
     ]
    }
   ],
   "source": [
    "# 10. Predict crimes for the next 12 hours from last hour in dataset\n",
    "print(\"Predicting next 12 hours of potential crimes...\")\n",
    "last_hour = df['DateHour'].max()\n",
    "future_hours = pd.date_range(start=last_hour + pd.Timedelta(hours=1), periods=12, freq='h')\n",
    "forecast_grid = pd.MultiIndex.from_product([future_hours, locations['LatGrid'], locations['LonGrid']], names=['DateHour', 'LatGrid', 'LonGrid'])\n",
    "forecast_df = pd.DataFrame(index=forecast_grid).reset_index()\n",
    "\n",
    "forecast_df['Hour'] = forecast_df['DateHour'].dt.hour\n",
    "forecast_df['DayOfWeek'] = forecast_df['DateHour'].dt.dayofweek\n",
    "forecast_df['Month'] = forecast_df['DateHour'].dt.month\n",
    "forecast_df['IsWeekend'] = forecast_df['DayOfWeek'].isin([5, 6]).astype(int)\n",
    "\n",
    "for col in weather_cols:\n",
    "    forecast_df[col] = latest_weather[col]\n",
    "\n",
    "forecast_df['RecentArrests'] = 0\n",
    "forecast_df['RepeatOffenderSignal'] = 0\n",
    "\n",
    "forecast_X = forecast_df[features]\n",
    "forecast_df['PredictedCrimeProb'] = clf.predict_proba(forecast_X)[:, -1]\n",
    "top_preds = forecast_df.sort_values('PredictedCrimeProb', ascending=False).head(10)\n",
    "print(top_preds[['DateHour', 'LatGrid', 'LonGrid', 'PredictedCrimeProb']])\n"
   ]
  },
  {
   "cell_type": "code",
   "execution_count": 15,
   "id": "0b7a9c53-0683-4531-9db3-e4db7bc44372",
   "metadata": {},
   "outputs": [
    {
     "name": "stdout",
     "output_type": "stream",
     "text": [
      "📡 Predicting next 12 hours of potential crimes...\n",
      "                 DateHour  LatGrid  LonGrid  PredictedCrimeProb\n",
      "29999 2001-01-08 12:00:00    41.68   -87.74            0.294975\n",
      "28329 2001-01-08 12:00:00    41.68   -87.66            0.294975\n",
      "28336 2001-01-08 12:00:00    41.68   -87.75            0.294975\n",
      "28335 2001-01-08 12:00:00    41.68   -87.75            0.294975\n",
      "28334 2001-01-08 12:00:00    41.68   -87.68            0.294975\n",
      "28333 2001-01-08 12:00:00    41.68   -87.61            0.294975\n",
      "28332 2001-01-08 12:00:00    41.68   -87.72            0.294975\n",
      "28331 2001-01-08 12:00:00    41.68   -87.62            0.294975\n",
      "28330 2001-01-08 12:00:00    41.68   -87.58            0.294975\n",
      "28328 2001-01-08 12:00:00    41.68   -87.78            0.294975\n"
     ]
    }
   ],
   "source": [
    "# 10. Predict crimes for the next 12 hours from last hour in dataset\n",
    "print(\"Predicting next 12 hours of potential crimes...\")\n",
    "last_hour = df['DateHour'].max()\n",
    "future_hours = pd.date_range(start=last_hour + pd.Timedelta(hours=1), periods=12, freq='h')\n",
    "forecast_grid = pd.MultiIndex.from_product([future_hours, locations['LatGrid'], locations['LonGrid']], names=['DateHour', 'LatGrid', 'LonGrid'])\n",
    "forecast_df = pd.DataFrame(index=forecast_grid).reset_index()\n",
    "\n",
    "forecast_df['Hour'] = forecast_df['DateHour'].dt.hour\n",
    "forecast_df['DayOfWeek'] = forecast_df['DateHour'].dt.dayofweek\n",
    "forecast_df['Month'] = forecast_df['DateHour'].dt.month\n",
    "forecast_df['IsWeekend'] = forecast_df['DayOfWeek'].isin([5, 6]).astype(int)\n",
    "\n",
    "latest_weather = df[df['DateHour'] == last_hour][weather_cols].mean()\n",
    "for col in weather_cols:\n",
    "    forecast_df[col] = latest_weather[col]\n",
    "\n",
    "forecast_df['RecentArrests'] = 0\n",
    "forecast_df['RepeatOffenderSignal'] = 0\n",
    "\n",
    "forecast_X = forecast_df[features]\n",
    "forecast_df['PredictedCrimeProb'] = clf.predict_proba(forecast_X)[:, -1]\n",
    "top_preds = forecast_df.sort_values('PredictedCrimeProb', ascending=False).head(10)\n",
    "print(top_preds[['DateHour', 'LatGrid', 'LonGrid', 'PredictedCrimeProb']])\n"
   ]
  },
  {
   "cell_type": "code",
   "execution_count": null,
   "id": "38ab5f12-2906-4a2e-909e-058fd206b3aa",
   "metadata": {},
   "outputs": [],
   "source": []
  }
 ],
 "metadata": {
  "kernelspec": {
   "display_name": "Python 3 (ipykernel)",
   "language": "python",
   "name": "python3"
  },
  "language_info": {
   "codemirror_mode": {
    "name": "ipython",
    "version": 3
   },
   "file_extension": ".py",
   "mimetype": "text/x-python",
   "name": "python",
   "nbconvert_exporter": "python",
   "pygments_lexer": "ipython3",
   "version": "3.12.7"
  }
 },
 "nbformat": 4,
 "nbformat_minor": 5
}
