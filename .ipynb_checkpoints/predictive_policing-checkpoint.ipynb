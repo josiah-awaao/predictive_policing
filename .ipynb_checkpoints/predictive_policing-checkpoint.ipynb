{
 "cells": [
  {
   "cell_type": "code",
   "execution_count": 22,
   "id": "94a9a1f3-0ca9-496d-bac7-ee434de0406e",
   "metadata": {},
   "outputs": [
    {
     "ename": "SyntaxError",
     "evalue": "invalid syntax (1822401875.py, line 2)",
     "output_type": "error",
     "traceback": [
      "\u001b[1;36m  Cell \u001b[1;32mIn[22], line 2\u001b[1;36m\u001b[0m\n\u001b[1;33m    pip install tqdm\u001b[0m\n\u001b[1;37m        ^\u001b[0m\n\u001b[1;31mSyntaxError\u001b[0m\u001b[1;31m:\u001b[0m invalid syntax\n"
     ]
    }
   ],
   "source": [
    "# pip install meteostat\n",
    "# pip install tqdm"
   ]
  },
  {
   "cell_type": "code",
   "execution_count": 25,
   "id": "0b9e175d-7e89-4348-a9d0-e1ba3b421063",
   "metadata": {},
   "outputs": [],
   "source": [
    "import pandas as pd\n",
    "import numpy as np\n",
    "from datetime import datetime, timedelta\n",
    "from meteostat import Hourly, Point\n",
    "from sklearn.ensemble import RandomForestClassifier\n",
    "from sklearn.model_selection import train_test_split\n",
    "from sklearn.metrics import classification_report, roc_auc_score\n",
    "import matplotlib.pyplot as plt\n",
    "import seaborn as sns\n",
    "import joblib\n",
    "from tqdm.notebook import tqdm\n",
    "\n",
    "tqdm.pandas()"
   ]
  },
  {
   "cell_type": "code",
   "execution_count": 11,
   "id": "e3e1ef95-818b-48c3-9644-97f1135504bc",
   "metadata": {},
   "outputs": [
    {
     "data": {
      "text/html": [
       "<div>\n",
       "<style scoped>\n",
       "    .dataframe tbody tr th:only-of-type {\n",
       "        vertical-align: middle;\n",
       "    }\n",
       "\n",
       "    .dataframe tbody tr th {\n",
       "        vertical-align: top;\n",
       "    }\n",
       "\n",
       "    .dataframe thead th {\n",
       "        text-align: right;\n",
       "    }\n",
       "</style>\n",
       "<table border=\"1\" class=\"dataframe\">\n",
       "  <thead>\n",
       "    <tr style=\"text-align: right;\">\n",
       "      <th></th>\n",
       "      <th>ID</th>\n",
       "      <th>Case Number</th>\n",
       "      <th>Date</th>\n",
       "      <th>Block</th>\n",
       "      <th>IUCR</th>\n",
       "      <th>Primary Type</th>\n",
       "      <th>Description</th>\n",
       "      <th>Location Description</th>\n",
       "      <th>Arrest</th>\n",
       "      <th>Domestic</th>\n",
       "      <th>...</th>\n",
       "      <th>Ward</th>\n",
       "      <th>Community Area</th>\n",
       "      <th>FBI Code</th>\n",
       "      <th>X Coordinate</th>\n",
       "      <th>Y Coordinate</th>\n",
       "      <th>Year</th>\n",
       "      <th>Updated On</th>\n",
       "      <th>Latitude</th>\n",
       "      <th>Longitude</th>\n",
       "      <th>Location</th>\n",
       "    </tr>\n",
       "  </thead>\n",
       "  <tbody>\n",
       "    <tr>\n",
       "      <th>0</th>\n",
       "      <td>13311263</td>\n",
       "      <td>JG503434</td>\n",
       "      <td>2022-07-29 03:39:00</td>\n",
       "      <td>023XX S TROY ST</td>\n",
       "      <td>1582</td>\n",
       "      <td>OFFENSE INVOLVING CHILDREN</td>\n",
       "      <td>CHILD PORNOGRAPHY</td>\n",
       "      <td>RESIDENCE</td>\n",
       "      <td>True</td>\n",
       "      <td>False</td>\n",
       "      <td>...</td>\n",
       "      <td>25.0</td>\n",
       "      <td>30.0</td>\n",
       "      <td>17</td>\n",
       "      <td>NaN</td>\n",
       "      <td>NaN</td>\n",
       "      <td>2022</td>\n",
       "      <td>04/18/2024 03:40:59 PM</td>\n",
       "      <td>NaN</td>\n",
       "      <td>NaN</td>\n",
       "      <td>NaN</td>\n",
       "    </tr>\n",
       "    <tr>\n",
       "      <th>1</th>\n",
       "      <td>13053066</td>\n",
       "      <td>JG103252</td>\n",
       "      <td>2023-01-03 16:44:00</td>\n",
       "      <td>039XX W WASHINGTON BLVD</td>\n",
       "      <td>2017</td>\n",
       "      <td>NARCOTICS</td>\n",
       "      <td>MANUFACTURE / DELIVER - CRACK</td>\n",
       "      <td>SIDEWALK</td>\n",
       "      <td>True</td>\n",
       "      <td>False</td>\n",
       "      <td>...</td>\n",
       "      <td>28.0</td>\n",
       "      <td>26.0</td>\n",
       "      <td>18</td>\n",
       "      <td>NaN</td>\n",
       "      <td>NaN</td>\n",
       "      <td>2023</td>\n",
       "      <td>01/20/2024 03:41:12 PM</td>\n",
       "      <td>NaN</td>\n",
       "      <td>NaN</td>\n",
       "      <td>NaN</td>\n",
       "    </tr>\n",
       "    <tr>\n",
       "      <th>2</th>\n",
       "      <td>11227634</td>\n",
       "      <td>JB147599</td>\n",
       "      <td>2017-08-26 10:00:00</td>\n",
       "      <td>001XX W RANDOLPH ST</td>\n",
       "      <td>0281</td>\n",
       "      <td>CRIM SEXUAL ASSAULT</td>\n",
       "      <td>NON-AGGRAVATED</td>\n",
       "      <td>HOTEL/MOTEL</td>\n",
       "      <td>False</td>\n",
       "      <td>False</td>\n",
       "      <td>...</td>\n",
       "      <td>42.0</td>\n",
       "      <td>32.0</td>\n",
       "      <td>02</td>\n",
       "      <td>NaN</td>\n",
       "      <td>NaN</td>\n",
       "      <td>2017</td>\n",
       "      <td>02/11/2018 03:57:41 PM</td>\n",
       "      <td>NaN</td>\n",
       "      <td>NaN</td>\n",
       "      <td>NaN</td>\n",
       "    </tr>\n",
       "    <tr>\n",
       "      <th>3</th>\n",
       "      <td>13203321</td>\n",
       "      <td>JG415333</td>\n",
       "      <td>2023-09-06 17:00:00</td>\n",
       "      <td>002XX N Wells st</td>\n",
       "      <td>1320</td>\n",
       "      <td>CRIMINAL DAMAGE</td>\n",
       "      <td>TO VEHICLE</td>\n",
       "      <td>PARKING LOT / GARAGE (NON RESIDENTIAL)</td>\n",
       "      <td>False</td>\n",
       "      <td>False</td>\n",
       "      <td>...</td>\n",
       "      <td>42.0</td>\n",
       "      <td>32.0</td>\n",
       "      <td>14</td>\n",
       "      <td>1174694.0</td>\n",
       "      <td>1901831.0</td>\n",
       "      <td>2023</td>\n",
       "      <td>11/04/2023 03:40:18 PM</td>\n",
       "      <td>41.886018</td>\n",
       "      <td>-87.633938</td>\n",
       "      <td>(41.886018055, -87.633937881)</td>\n",
       "    </tr>\n",
       "    <tr>\n",
       "      <th>4</th>\n",
       "      <td>13204489</td>\n",
       "      <td>JG416325</td>\n",
       "      <td>2023-09-06 11:00:00</td>\n",
       "      <td>0000X E 8TH ST</td>\n",
       "      <td>0810</td>\n",
       "      <td>THEFT</td>\n",
       "      <td>OVER $500</td>\n",
       "      <td>PARKING LOT / GARAGE (NON RESIDENTIAL)</td>\n",
       "      <td>False</td>\n",
       "      <td>False</td>\n",
       "      <td>...</td>\n",
       "      <td>4.0</td>\n",
       "      <td>32.0</td>\n",
       "      <td>06</td>\n",
       "      <td>1176857.0</td>\n",
       "      <td>1896680.0</td>\n",
       "      <td>2023</td>\n",
       "      <td>11/04/2023 03:40:18 PM</td>\n",
       "      <td>41.871835</td>\n",
       "      <td>-87.626151</td>\n",
       "      <td>(41.871834768, -87.62615082)</td>\n",
       "    </tr>\n",
       "  </tbody>\n",
       "</table>\n",
       "<p>5 rows × 22 columns</p>\n",
       "</div>"
      ],
      "text/plain": [
       "         ID Case Number                Date                    Block  IUCR  \\\n",
       "0  13311263    JG503434 2022-07-29 03:39:00          023XX S TROY ST  1582   \n",
       "1  13053066    JG103252 2023-01-03 16:44:00  039XX W WASHINGTON BLVD  2017   \n",
       "2  11227634    JB147599 2017-08-26 10:00:00      001XX W RANDOLPH ST  0281   \n",
       "3  13203321    JG415333 2023-09-06 17:00:00         002XX N Wells st  1320   \n",
       "4  13204489    JG416325 2023-09-06 11:00:00           0000X E 8TH ST  0810   \n",
       "\n",
       "                 Primary Type                    Description  \\\n",
       "0  OFFENSE INVOLVING CHILDREN              CHILD PORNOGRAPHY   \n",
       "1                   NARCOTICS  MANUFACTURE / DELIVER - CRACK   \n",
       "2         CRIM SEXUAL ASSAULT                 NON-AGGRAVATED   \n",
       "3             CRIMINAL DAMAGE                     TO VEHICLE   \n",
       "4                       THEFT                      OVER $500   \n",
       "\n",
       "                     Location Description  Arrest  Domestic  ...  Ward  \\\n",
       "0                               RESIDENCE    True     False  ...  25.0   \n",
       "1                                SIDEWALK    True     False  ...  28.0   \n",
       "2                             HOTEL/MOTEL   False     False  ...  42.0   \n",
       "3  PARKING LOT / GARAGE (NON RESIDENTIAL)   False     False  ...  42.0   \n",
       "4  PARKING LOT / GARAGE (NON RESIDENTIAL)   False     False  ...   4.0   \n",
       "\n",
       "   Community Area  FBI Code  X Coordinate Y Coordinate  Year  \\\n",
       "0            30.0        17           NaN          NaN  2022   \n",
       "1            26.0        18           NaN          NaN  2023   \n",
       "2            32.0        02           NaN          NaN  2017   \n",
       "3            32.0        14     1174694.0    1901831.0  2023   \n",
       "4            32.0        06     1176857.0    1896680.0  2023   \n",
       "\n",
       "               Updated On   Latitude  Longitude                       Location  \n",
       "0  04/18/2024 03:40:59 PM        NaN        NaN                            NaN  \n",
       "1  01/20/2024 03:41:12 PM        NaN        NaN                            NaN  \n",
       "2  02/11/2018 03:57:41 PM        NaN        NaN                            NaN  \n",
       "3  11/04/2023 03:40:18 PM  41.886018 -87.633938  (41.886018055, -87.633937881)  \n",
       "4  11/04/2023 03:40:18 PM  41.871835 -87.626151   (41.871834768, -87.62615082)  \n",
       "\n",
       "[5 rows x 22 columns]"
      ]
     },
     "execution_count": 11,
     "metadata": {},
     "output_type": "execute_result"
    }
   ],
   "source": [
    "# 1. Load full crime dataset\n",
    "\n",
    "# crime_df = pd.read_csv(\"Crimes_-_2001_to_Present_20250410.csv\", parse_dates=['Date'], low_memory=False)\n",
    "crime_df = pd.read_csv(\"Crimes_-_2001_to_Present_20250410.csv\", low_memory=False)\n",
    "crime_df['Date'] = pd.to_datetime(crime_df['Date'])\n",
    "crime_df.head()"
   ]
  },
  {
   "cell_type": "code",
   "execution_count": 12,
   "id": "8a453362-2df1-48fc-a7c7-b8252c22c238",
   "metadata": {},
   "outputs": [],
   "source": [
    "crime_df = crime_df[['Date', 'Arrest', 'Latitude', 'Longitude', 'Community Area']]\n",
    "crime_df.dropna(subset=['Date', 'Latitude', 'Longitude'], inplace=True)\n",
    "crime_df['DateHour'] = crime_df['Date'].dt.floor('h')"
   ]
  },
  {
   "cell_type": "code",
   "execution_count": 13,
   "id": "6d8a0b99-ff40-435b-9611-0f91791e9999",
   "metadata": {},
   "outputs": [
    {
     "name": "stdout",
     "output_type": "stream",
     "text": [
      "Training on full range: 2001-01-01 00:00:00 to 2025-04-01 00:00:00\n"
     ]
    }
   ],
   "source": [
    "# 2. Use full available date range\n",
    "\n",
    "start = crime_df['DateHour'].min()\n",
    "end = crime_df['DateHour'].max()\n",
    "\n",
    "print(\"Training on full range:\", start, \"to\", end)"
   ]
  },
  {
   "cell_type": "code",
   "execution_count": 14,
   "id": "1d0af926-e074-4bf7-9d52-23bedfe4c49f",
   "metadata": {},
   "outputs": [],
   "source": [
    "# 3. Generate hourly grid\n",
    "\n",
    "all_hours = pd.date_range(start=start, end=end, freq='h')\n",
    "df_hours = pd.DataFrame({'DateHour': all_hours})"
   ]
  },
  {
   "cell_type": "code",
   "execution_count": 15,
   "id": "fa95ac01-0008-4b52-bf7e-5e932164bf1d",
   "metadata": {},
   "outputs": [
    {
     "name": "stderr",
     "output_type": "stream",
     "text": [
      "FutureWarning: 'H' is deprecated and will be removed in a future version, please use 'h' instead.\n"
     ]
    }
   ],
   "source": [
    "# 4. Pull weather data\n",
    "\n",
    "station = Point(41.9742, -87.9073)\n",
    "weather_df = Hourly(station, start, end).fetch().reset_index()\n",
    "weather_df['DateHour'] = weather_df['time'].dt.floor('h')"
   ]
  },
  {
   "cell_type": "code",
   "execution_count": 16,
   "id": "6ff5fa7b-15d6-4676-b3fb-ed2a400effb6",
   "metadata": {},
   "outputs": [],
   "source": [
    "# 5. Merge hourly grid + weather\n",
    "\n",
    "df = df_hours.merge(weather_df, on='DateHour', how='left')"
   ]
  },
  {
   "cell_type": "code",
   "execution_count": 17,
   "id": "28628b0d-3fa8-4a60-8338-335130fc7bf6",
   "metadata": {},
   "outputs": [],
   "source": [
    "# 6. Add time-based features\n",
    "\n",
    "df['Hour'] = df['DateHour'].dt.hour\n",
    "df['DayOfWeek'] = df['DateHour'].dt.dayofweek\n",
    "df['Month'] = df['DateHour'].dt.month\n",
    "df['IsWeekend'] = df['DayOfWeek'].isin([5, 6]).astype(int)"
   ]
  },
  {
   "cell_type": "code",
   "execution_count": 18,
   "id": "a8142d96-719b-40a6-950d-9fda2d3e4a1e",
   "metadata": {},
   "outputs": [],
   "source": [
    "# 7. Label crime hours\n",
    "\n",
    "crime_hours = set(crime_df['DateHour'])\n",
    "df['CrimeOccurred'] = df['DateHour'].isin(crime_hours).astype(int)"
   ]
  },
  {
   "cell_type": "code",
   "execution_count": null,
   "id": "e465432e-e8ce-4e0f-84ec-cdc2db3e4e22",
   "metadata": {},
   "outputs": [
    {
     "name": "stdout",
     "output_type": "stream",
     "text": [
      "Calculating Recent Arrests...\n"
     ]
    },
    {
     "data": {
      "application/vnd.jupyter.widget-view+json": {
       "model_id": "57fd4e177e4e435b98b71e627032790d",
       "version_major": 2,
       "version_minor": 0
      },
      "text/plain": [
       "  0%|          | 0/212545 [00:00<?, ?it/s]"
      ]
     },
     "metadata": {},
     "output_type": "display_data"
    }
   ],
   "source": [
    "# 8. Add arrest-based features\n",
    "\n",
    "crime_df_arrests = crime_df[crime_df['Arrest'] == True].copy()\n",
    "crime_df_arrests.set_index('DateHour', inplace=True)\n",
    "\n",
    "def count_recent_arrests(dt):\n",
    "    return crime_df_arrests[(crime_df_arrests.index >= dt - timedelta(days=7)) & \n",
    "                            (crime_df_arrests.index < dt)].shape[0]\n",
    "\n",
    "def count_repeat_signal(dt):\n",
    "    return crime_df_arrests[(crime_df_arrests.index >= dt - timedelta(days=30)) & \n",
    "                            (crime_df_arrests.index < dt)].shape[0]\n",
    "\n",
    "# print(\" Calculating arrest-based features...\")\n",
    "# df['RecentArrests'] = df['DateHour'].apply(count_recent_arrests)\n",
    "\n",
    "print(\"Calculating Recent Arrests...\")\n",
    "df['RecentArrests'] = df['DateHour'].progress_apply(count_recent_arrests)\n",
    "\n",
    "# df['RepeatOffenderSignal'] = df['DateHour'].apply(count_repeat_signal)\n",
    "print(\"Calculating Repeat Offender Signal...\")\n",
    "df['RepeatOffenderSignal'] = df['DateHour'].progress_apply(count_repeat_signal)"
   ]
  },
  {
   "cell_type": "code",
   "execution_count": null,
   "id": "342ea1ce-d86c-4fea-b8bc-ffc7b1ff336e",
   "metadata": {},
   "outputs": [],
   "source": [
    "# 9. Drop missing weather\n",
    "\n",
    "df.dropna(subset=['temp', 'prcp', 'wspd'], inplace=True)"
   ]
  },
  {
   "cell_type": "code",
   "execution_count": null,
   "id": "5dc4dfa1-26ca-4ffc-9c5e-921cc799fefe",
   "metadata": {},
   "outputs": [],
   "source": [
    "# Save the processed dataset for future fast use\n",
    "\n",
    "df.to_parquet(\"processed_crime_data.parquet\")\n",
    "print(\"Saved cleaned data as processed_crime_data.parquet\")"
   ]
  },
  {
   "cell_type": "code",
   "execution_count": null,
   "id": "8684fee5-bcaf-4e39-b476-e241fc418677",
   "metadata": {},
   "outputs": [],
   "source": [
    "\n",
    "\n",
    "# 10. Prepare features and target\n",
    "features = [\n",
    "    'Hour', 'DayOfWeek', 'Month', 'IsWeekend',\n",
    "    'temp', 'rhum', 'prcp', 'snow', 'wspd',\n",
    "    'RecentArrests', 'RepeatOffenderSignal'\n",
    "]\n",
    "X = df[features]\n",
    "y = df['CrimeOccurred']\n",
    "\n",
    "# 11. Train/test split\n",
    "X_train, X_test, y_train, y_test = train_test_split(X, y, stratify=y, test_size=0.25, random_state=42)\n",
    "\n",
    "# 12. Train model\n",
    "clf = RandomForestClassifier(n_estimators=100, random_state=42)\n",
    "clf.fit(X_train, y_train)\n",
    "\n",
    "#  Save the trained model\n",
    "joblib.dump(clf, \"crime_predictor_model.pkl\")\n",
    "print(\"Saved trained model as crime_predictor_model.pkl\")\n",
    "\n",
    "# 13. Evaluate\n",
    "y_pred = clf.predict(X_test)\n",
    "y_proba = clf.predict_proba(X_test)[:, 1]\n",
    "\n",
    "print(\"\\n Classification Report:\")\n",
    "print(classification_report(y_test, y_pred))\n",
    "print(\"ROC-AUC Score:\", roc_auc_score(y_test, y_proba))\n",
    "\n",
    "# 14. Feature importance\n",
    "feat_imp = pd.Series(clf.feature_importances_, index=features).sort_values(ascending=False)\n",
    "plt.figure(figsize=(10, 6))\n",
    "sns.barplot(x=feat_imp, y=feat_imp.index)\n",
    "plt.title(\"Feature Importance (Time + Weather + Arrest Signals)\")\n",
    "plt.grid(True)\n",
    "plt.tight_layout()\n",
    "plt.show()\n"
   ]
  }
 ],
 "metadata": {
  "kernelspec": {
   "display_name": "Python 3 (ipykernel)",
   "language": "python",
   "name": "python3"
  },
  "language_info": {
   "codemirror_mode": {
    "name": "ipython",
    "version": 3
   },
   "file_extension": ".py",
   "mimetype": "text/x-python",
   "name": "python",
   "nbconvert_exporter": "python",
   "pygments_lexer": "ipython3",
   "version": "3.12.7"
  }
 },
 "nbformat": 4,
 "nbformat_minor": 5
}
