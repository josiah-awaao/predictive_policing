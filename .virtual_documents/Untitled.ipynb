import joblib
import matplotlib.pyplot as plt
import pandas as pd
import seaborn as sns
import pickle

# Load your model
model = joblib.load("crime_predictor_model.pkl")

# Replace with actual features used in training
features = [
    'RepeatOffenderSignal', 'RecentArrests', 'temp', 'Hour',
    'rhum', 'wspd', 'Month', 'DayOfWeek', 'prcp', 'IsWeekend'
]

# Plot
importances = model.feature_importances_
feat_df = pd.DataFrame({'Feature': features, 'Importance': importances})
feat_df = feat_df.sort_values(by='Importance', ascending=False)

plt.figure(figsize=(10, 6))
sns.barplot(x='Importance', y='Feature', data=feat_df)
plt.title("Feature Importance from Trained Model")
plt.tight_layout()
plt.show()



with open("crime_predictor_model.pkl", "rb") as f:
    obj = pickle.load(f)
    print(obj)



