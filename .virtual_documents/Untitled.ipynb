# Predict Crimes - Load Saved Model
import pandas as pd
import numpy as np
import joblib
from datetime import timedelta

# Load the trained model
model = joblib.load("crime_predictor_model.pkl")

# === Load or define location and weather context ===
# Simulate or load context for forecasting
last_hour = pd.Timestamp.now().floor('h')
future_hours = pd.date_range(start=last_hour + timedelta(hours=1), periods=12, freq='h')

# Sample coordinates within Chicago bounds
latitudes = np.round(np.random.uniform(41.64, 42.02, 100), 2)
longitudes = np.round(np.random.uniform(-87.94, -87.52, 100), 2)
sampled_locations = pd.DataFrame({'LatGrid': latitudes, 'LonGrid': longitudes})

forecast_grid = pd.MultiIndex.from_product(
    [future_hours, sampled_locations['LatGrid'], sampled_locations['LonGrid']],
    names=['DateHour', 'LatGrid', 'LonGrid']
)
forecast_df = pd.DataFrame(index=forecast_grid).reset_index()

# === Feature Engineering ===
forecast_df['Hour'] = forecast_df['DateHour'].dt.hour
forecast_df['DayOfWeek'] = forecast_df['DateHour'].dt.dayofweek
forecast_df['Month'] = forecast_df['DateHour'].dt.month
forecast_df['IsWeekend'] = forecast_df['DayOfWeek'].isin([5, 6]).astype(int)

# Generate synthetic weather data (replace with real if available)
weather_cols = ['temp', 'rhum', 'prcp', 'snow', 'wspd']
for col in weather_cols:
    forecast_df[col] = np.random.normal(loc=10.0, scale=5.0, size=len(forecast_df)).astype(np.float32)

# Simulate arrest/crime signals
forecast_df['RecentArrests'] = np.random.poisson(2, size=len(forecast_df))
forecast_df['RepeatOffenderSignal'] = np.random.poisson(5, size=len(forecast_df))

# === Predict ===
features = [
    'Hour', 'DayOfWeek', 'Month', 'IsWeekend',
    'temp', 'rhum', 'prcp', 'snow', 'wspd',
    'RecentArrests', 'RepeatOffenderSignal'
]
forecast_X = forecast_df[features]
forecast_df['PredictedCrimeProb'] = model.predict_proba(forecast_X)[:, -1]

# Show top 10 highest risk locations
top_preds = forecast_df.sort_values('PredictedCrimeProb', ascending=False).head(10)
top_preds[['DateHour', 'LatGrid', 'LonGrid', 'PredictedCrimeProb']]




