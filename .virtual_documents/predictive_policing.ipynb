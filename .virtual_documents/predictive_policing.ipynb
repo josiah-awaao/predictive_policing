# pip install meteostat
# pip install tqdm


import pandas as pd
import numpy as np
from datetime import datetime, timedelta
from meteostat import Hourly, Point
from sklearn.ensemble import RandomForestClassifier
from sklearn.model_selection import train_test_split
from sklearn.metrics import classification_report, roc_auc_score
import matplotlib.pyplot as plt
import seaborn as sns
import joblib
from tqdm import tqdm

tqdm.pandas()


# 1. Load full crime dataset

# crime_df = pd.read_csv("Crimes_-_2001_to_Present_20250410.csv", parse_dates=['Date'], low_memory=False)
crime_df = pd.read_csv("Crimes_-_2001_to_Present_20250410.csv", low_memory=False)
crime_df['Date'] = pd.to_datetime(crime_df['Date'])
crime_df.head()


crime_df = crime_df[['Date', 'Arrest', 'Latitude', 'Longitude', 'Community Area']]
crime_df.dropna(subset=['Date', 'Latitude', 'Longitude'], inplace=True)
crime_df['DateHour'] = crime_df['Date'].dt.floor('h')


# 2. Use full available date range

start = crime_df['DateHour'].min()
end = crime_df['DateHour'].max()

print("Training on full range:", start, "to", end)


# 3. Generate hourly grid

all_hours = pd.date_range(start=start, end=end, freq='h')
df_hours = pd.DataFrame({'DateHour': all_hours})


# 4. Pull weather data

station = Point(41.9742, -87.9073)
weather_df = Hourly(station, start, end).fetch().reset_index()
weather_df['DateHour'] = weather_df['time'].dt.floor('h')


# 5. Merge hourly grid + weather

df = df_hours.merge(weather_df, on='DateHour', how='left')


# 6. Add time-based features

df['Hour'] = df['DateHour'].dt.hour
df['DayOfWeek'] = df['DateHour'].dt.dayofweek
df['Month'] = df['DateHour'].dt.month
df['IsWeekend'] = df['DayOfWeek'].isin([5, 6]).astype(int)


# 7. Label crime hours

crime_hours = set(crime_df['DateHour'])
df['CrimeOccurred'] = df['DateHour'].isin(crime_hours).astype(int)


# 8. Add arrest-based features

crime_df_arrests = crime_df[crime_df['Arrest'] == True].copy()
crime_df_arrests.set_index('DateHour', inplace=True)

def count_recent_arrests(dt):
    return crime_df_arrests[(crime_df_arrests.index >= dt - timedelta(days=7)) & 
                            (crime_df_arrests.index < dt)].shape[0]

def count_repeat_signal(dt):
    return crime_df_arrests[(crime_df_arrests.index >= dt - timedelta(days=30)) & 
                            (crime_df_arrests.index < dt)].shape[0]

# print(" Calculating arrest-based features...") 
# df['RecentArrests'] = df['DateHour'].apply(count_recent_arrests)

print("Calculating Recent Arrests...")
df['RecentArrests'] = df['DateHour'].progress_apply(count_recent_arrests)

# df['RepeatOffenderSignal'] = df['DateHour'].apply(count_repeat_signal)
print("Calculating Repeat Offender Signal...")
df['RepeatOffenderSignal'] = df['DateHour'].progress_apply(count_repeat_signal)


# 9. Drop missing weather

df.dropna(subset=['temp', 'prcp', 'wspd'], inplace=True)


# Save the processed dataset for future fast use

df.to_parquet("processed_crime_data.parquet")
print("Saved cleaned data as processed_crime_data.parquet")


# 10. Prepare features and target
features = [
    'Hour', 'DayOfWeek', 'Month', 'IsWeekend',
    'temp', 'rhum', 'prcp', 'snow', 'wspd',
    'RecentArrests', 'RepeatOffenderSignal'
]
X = df[features]
y = df['CrimeOccurred']



# 11. Train/test split
X_train, X_test, y_train, y_test = train_test_split(X, y, stratify=y, test_size=0.25, random_state=42)

# 12. Train model
clf = RandomForestClassifier(n_estimators=100, random_state=42)
clf.fit(X_train, y_train)


#  Save the trained model

joblib.dump(clf, "crime_predictor_model.pkl")
print("Saved trained model as crime_predictor_model.pkl")


# 13. Evaluate
y_pred = clf.predict(X_test)
y_proba = clf.predict_proba(X_test)[:, 1]

print("\n Classification Report:")
print(classification_report(y_test, y_pred))
print("ROC-AUC Score:", roc_auc_score(y_test, y_proba))

# 14. Feature importance
feat_imp = pd.Series(clf.feature_importances_, index=features).sort_values(ascending=False)
plt.figure(figsize=(10, 6))
sns.barplot(x=feat_imp, y=feat_imp.index)
plt.title("Feature Importance (Time + Weather + Arrest Signals)")
plt.grid(True)
plt.tight_layout()
plt.show()




