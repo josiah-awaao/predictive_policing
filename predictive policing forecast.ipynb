{
 "cells": [
  {
   "cell_type": "code",
   "execution_count": 10,
   "id": "b4b09cf6-598b-4a6e-8957-667e15880090",
   "metadata": {},
   "outputs": [
    {
     "name": "stderr",
     "output_type": "stream",
     "text": [
      "UserWarning: Could not infer format, so each element will be parsed individually, falling back to `dateutil`. To ensure parsing is consistent and as-expected, please specify a format.\n",
      "UserWarning: Could not infer format, so each element will be parsed individually, falling back to `dateutil`. To ensure parsing is consistent and as-expected, please specify a format.\n",
      "UserWarning: Could not infer format, so each element will be parsed individually, falling back to `dateutil`. To ensure parsing is consistent and as-expected, please specify a format.\n",
      "UserWarning: Could not infer format, so each element will be parsed individually, falling back to `dateutil`. To ensure parsing is consistent and as-expected, please specify a format.\n",
      "UserWarning: Could not infer format, so each element will be parsed individually, falling back to `dateutil`. To ensure parsing is consistent and as-expected, please specify a format.\n",
      "UserWarning: Could not infer format, so each element will be parsed individually, falling back to `dateutil`. To ensure parsing is consistent and as-expected, please specify a format.\n",
      "UserWarning: Could not infer format, so each element will be parsed individually, falling back to `dateutil`. To ensure parsing is consistent and as-expected, please specify a format.\n",
      "UserWarning: Could not infer format, so each element will be parsed individually, falling back to `dateutil`. To ensure parsing is consistent and as-expected, please specify a format.\n",
      "UserWarning: Could not infer format, so each element will be parsed individually, falling back to `dateutil`. To ensure parsing is consistent and as-expected, please specify a format.\n"
     ]
    }
   ],
   "source": [
    "# pip install meteostat tqdm joblib\n",
    "import pandas as pd\n",
    "import numpy as np\n",
    "from datetime import datetime, timedelta\n",
    "from meteostat import Hourly, Point\n",
    "from sklearn.ensemble import RandomForestClassifier\n",
    "from sklearn.model_selection import train_test_split\n",
    "from sklearn.metrics import classification_report, roc_auc_score\n",
    "import matplotlib.pyplot as plt\n",
    "import seaborn as sns\n",
    "import joblib\n",
    "from tqdm import tqdm\n",
    "\n",
    "tqdm.pandas()\n",
    "\n",
    "# 1. Load crime dataset in chunks with safe datetime parsing\n",
    "chunk_list = []\n",
    "for chunk in pd.read_csv(\"Crimes_-_2001_to_Present_20250410.csv\", chunksize=500_000, low_memory=False):\n",
    "    try:\n",
    "        chunk['Date'] = pd.to_datetime(chunk['Date'], format='%m/%d/%Y %H:%M', errors='raise')\n",
    "    except Exception:\n",
    "        chunk['Date'] = pd.to_datetime(chunk['Date'], errors='coerce')  # fallback to flexible parsing\n",
    "\n",
    "    chunk = chunk[['Date', 'Arrest', 'Latitude', 'Longitude', 'Community Area']]\n",
    "    chunk.dropna(subset=['Date', 'Latitude', 'Longitude'], inplace=True)\n",
    "    chunk['DateHour'] = chunk['Date'].dt.floor('h')\n",
    "    chunk['LatGrid'] = chunk['Latitude'].round(2)\n",
    "    chunk['LonGrid'] = chunk['Longitude'].round(2)\n",
    "    chunk_list.append(chunk)\n",
    "\n",
    "crime_df = pd.concat(chunk_list, ignore_index=True)\n"
   ]
  },
  {
   "cell_type": "code",
   "execution_count": null,
   "id": "344eb82a-eedb-4455-bdb0-551fb3bb97db",
   "metadata": {},
   "outputs": [],
   "source": [
    "# 10. Predict crimes for the next 12 hours from last hour in dataset\n",
    "print(\"Predicting next 12 hours of potential crimes...\")\n",
    "last_hour = df['DateHour'].max()\n",
    "future_hours = pd.date_range(start=last_hour + pd.Timedelta(hours=1), periods=12, freq='h')\n",
    "\n",
    "# Limit to 100 random locations for memory safety\n",
    "sampled_locations = locations.sample(n=100, random_state=42)\n",
    "\n",
    "forecast_grid = pd.MultiIndex.from_product(\n",
    "    [future_hours, sampled_locations['LatGrid'], sampled_locations['LonGrid']],\n",
    "    names=['DateHour', 'LatGrid', 'LonGrid']\n",
    ")\n",
    "forecast_df = pd.DataFrame(index=forecast_grid).reset_index()\n",
    "\n",
    "\n",
    "forecast_df['Hour'] = forecast_df['DateHour'].dt.hour\n",
    "forecast_df['DayOfWeek'] = forecast_df['DateHour'].dt.dayofweek\n",
    "forecast_df['Month'] = forecast_df['DateHour'].dt.month\n",
    "forecast_df['IsWeekend'] = forecast_df['DayOfWeek'].isin([5, 6]).astype(int)\n",
    "\n",
    "latest_weather = df[df['DateHour'] == last_hour][weather_cols].mean()\n",
    "for col in weather_cols:\n",
    "    base_val = latest_weather[col]\n",
    "    if pd.isna(base_val):\n",
    "        base_val = 0  # fallback in case of all-NaN\n",
    "    forecast_df[col] = np.full(len(forecast_df), base_val, dtype=np.float32) + np.random.normal(0, 0.1, size=len(forecast_df)).astype(np.float32)\n",
    "\n",
    "hot_locations = df[df['CrimeOccurred'] == 1].groupby(['LatGrid', 'LonGrid']).size().reset_index(name='crime_count')\n",
    "forecast_df = forecast_df.merge(hot_locations, on=['LatGrid', 'LonGrid'], how='left')\n",
    "forecast_df['crime_count'] = forecast_df['crime_count'].fillna(0)\n",
    "forecast_df['RecentArrests'] = forecast_df['crime_count'] * np.random.uniform(0.1, 0.5)\n",
    "forecast_df['RepeatOffenderSignal'] = forecast_df['crime_count'] * np.random.uniform(0.3, 1.2)\n",
    "\n",
    "forecast_X = forecast_df[features]\n",
    "forecast_df['PredictedCrimeProb'] = clf.predict_proba(forecast_X)[:, -1]\n",
    "top_preds = forecast_df.sort_values('PredictedCrimeProb', ascending=False).head(10)\n",
    "print(top_preds.reset_index(drop=True)[['DateHour', 'LatGrid', 'LonGrid', 'PredictedCrimeProb']])\n",
    "\n"
   ]
  }
 ],
 "metadata": {
  "kernelspec": {
   "display_name": "Python 3 (ipykernel)",
   "language": "python",
   "name": "python3"
  },
  "language_info": {
   "codemirror_mode": {
    "name": "ipython",
    "version": 3
   },
   "file_extension": ".py",
   "mimetype": "text/x-python",
   "name": "python",
   "nbconvert_exporter": "python",
   "pygments_lexer": "ipython3",
   "version": "3.12.7"
  }
 },
 "nbformat": 4,
 "nbformat_minor": 5
}
